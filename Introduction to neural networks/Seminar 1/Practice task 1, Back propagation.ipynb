{
 "cells": [
  {
   "cell_type": "markdown",
   "source": [
    "## Семинар 1 \"Полносвязные нейронные сети\""
   ],
   "metadata": {}
  },
  {
   "cell_type": "markdown",
   "source": [
    "ФИО: Вартанов Дмитрий Александрович"
   ],
   "metadata": {}
  },
  {
   "cell_type": "markdown",
   "source": [
    "В этом задании вам предстоит реализовать проход \"вперед\" для полносвязной нейронную сети. В дальнейшем мы реализуем процедуру обучения и научим сеть распознавать рукописные цифры.\n",
    "\n",
    "На первой лекции мы познакомились с тем, что такое нейронные сети и изучили три слоя — линейный, сигмоида и SoftMax. Из этих слоев можно составлять глубокие архитектуры и обучать их при помощи градиентного спуска. Чтобы конструировать сложные архитектуры, можно реализовать каждый тип слоя как отдельный \"кирпичик\" и затем собирать полную архитектуру как конструктор. Это мы и попробуем сделать на первом и втором семинарах."
   ],
   "metadata": {}
  },
  {
   "cell_type": "markdown",
   "source": [
    "Каждый тип слоя мы будем реализовывать при помощи класса, который будет поддерживать три функции: forward, которая будет применять функцию, реализуемую слоем, к входной матрице и backward, которая будет вычислять градиенты и step, которая будет обновлять веса. Чтобы не применять функцию к каждому объекту в отдельности, мы будем подавать на вход слою матрицу размера (N, d), где N — количество объектов, а d — размерность каждого объекта."
   ],
   "metadata": {}
  },
  {
   "cell_type": "markdown",
   "source": [
    "<img src=backprop.pdf width=400/>"
   ],
   "metadata": {}
  },
  {
   "cell_type": "markdown",
   "source": [
    "Функция forward будет вычислять по $x$ значение $y$, backward — по $\\frac{\\partial L}{\\partial y}$ вычислять $\\frac{\\partial L}{\\partial x}$ и обновлять внутри себя $\\frac{\\partial L}{\\partial w}$.\n",
    "\n",
    "Важным требованием к реализации является векторизация всех слоев: все операции должны быть сведены к матричным, не должно быть циклов. Это значительно уменьшает временные затраты."
   ],
   "metadata": {}
  },
  {
   "cell_type": "code",
   "execution_count": 1,
   "source": [
    "import matplotlib.pyplot as plt\n",
    "import seaborn as sns\n",
    "import numpy as np\n",
    "from scipy.special import expit as sigmoid\n",
    "%matplotlib inline"
   ],
   "outputs": [],
   "metadata": {}
  },
  {
   "cell_type": "markdown",
   "source": [
    "### Часть 1: Линейный слой\n"
   ],
   "metadata": {}
  },
  {
   "cell_type": "markdown",
   "source": [
    "Приведем пример вычисления градиентов для линейного слоя: $y = Wx$, $x \\in \\mathbb{R}^{K \\times n}$, $y \\in \\mathbb{R}^{K \\times n}$, $W \\in \\mathbb{R}^{n \\times m}$, где $K$ — число объектов.\n",
    "\n",
    "Рассмотрим $L$ как функцию от выходов нейронной сети: $L = L(y_{11}, y_{12}, \\dots)$\n",
    "\n",
    "$$y_{kt} = (Wx)_{kt} = \\sum_{z=1}^{n} x_{kz}W_{zt}$$\n",
    "\n",
    "$$\\frac{\\partial L}{\\partial x_{ij}} = \\sum_{kt} \\frac{\\partial L}{\\partial y_{kt}}\\frac{\\partial y_{kt}}{\\partial x_{ij}} = \\sum_{kt} \\frac{\\partial L}{\\partial y_{kt}}\\frac{\\partial \\sum_z x_{kz}w_{zt}}{\\partial x_{ij}}= \\sum_{t} \\frac{\\partial L}{\\partial y_{it}}\\frac{\\partial w_{jt}}{\\partial x_{ij}}$$\n",
    "\n",
    "$$\\frac{\\partial{L}}{\\partial x} = \\frac{\\partial{L}}{\\partial y}W^T$$"
   ],
   "metadata": {}
  },
  {
   "cell_type": "code",
   "execution_count": 2,
   "source": [
    "class Linear:\n",
    "    def __init__(self, input_size, output_size):\n",
    "        '''\n",
    "        Creates weights and biases for linear layer.\n",
    "        Dimention of inputs is *input_size*, of output: *output_size*.\n",
    "        '''\n",
    "        self.W = np.random.randn(input_size, output_size) * 0.1\n",
    "        self.b = np.zeros(output_size)\n",
    "    \n",
    "    def forward(self, X):\n",
    "        '''\n",
    "        Passes objects through this layer.\n",
    "        X is np.array of size (N, input_size).\n",
    "        Returns output of size (N, output_size).\n",
    "        Hint: You may need to store X for backward pass\n",
    "        '''\n",
    "        self.X = X\n",
    "        self.Y = X @ self.W + self.b\n",
    "        return self.Y\n",
    "    \n",
    "    def backward(self, dLdy):\n",
    "        '''\n",
    "        1. Compute dLdw and dLdx.\n",
    "        2. Store dLdw for step() call\n",
    "        3. Return dLdx\n",
    "        '''\n",
    "        #### YOUR CODE HERE\n",
    "        ### X - R^(n x i), dldy - R^(1 x o) -> R^(i X o)\n",
    "        self.dLdW = self.X.T @ dLdy\n",
    "        self.dLdb = dLdy.sum(axis=0)\n",
    "        return dLdy @ self.W.T\n",
    "    \n",
    "    def step(self, learning_rate):\n",
    "        '''\n",
    "        1. Apply gradient dLdw to network:\n",
    "        w <- w - l*dLdw\n",
    "        '''\n",
    "        self.W -= learning_rate * self.dLdW\n",
    "        self.b -= learning_rate * self.dLdb"
   ],
   "outputs": [],
   "metadata": {
    "collapsed": true
   }
  },
  {
   "cell_type": "markdown",
   "source": [
    "### Часть 2: Численный градиент"
   ],
   "metadata": {}
  },
  {
   "cell_type": "markdown",
   "source": [
    "Релизуйте функцию проверки численного градиента. Для этого для каждой переменной, по которой считается градиент, надо вычислить численный градиент: $f'(x) \\approx \\frac{f(x+\\epsilon)-f(x-\\epsilon)}{2\\epsilon}$. Функция должна возвращать максимальное абсолютное отклонение аналитического градиента от численного. В качестве $\\epsilon$ рекомендуется взять $10^{-6}$. При правильной реализации максимальное отличие будет иметь порядок $10^{-8}-10^{-6}$."
   ],
   "metadata": {}
  },
  {
   "cell_type": "code",
   "execution_count": 3,
   "source": [
    "def check_gradient(func, X, gradient):\n",
    "    '''\n",
    "    Computes numerical gradient and compares it with analytcal.\n",
    "    func: callable, function of which gradient we are interested. Example call: func(X)\n",
    "    X: np.array of size (n x m)\n",
    "    gradient: np.array of size (n x m)\n",
    "    Returns: maximum absolute diviation between numerical gradient and analytical.\n",
    "    '''\n",
    "    eps = 10**-7\n",
    "    grads = np.zeros(X.shape)\n",
    "    for i in range(X.shape[0]):\n",
    "        for j in range(X.shape[1]):\n",
    "            X[i][j] += eps\n",
    "            tmpr = func(X)\n",
    "            X[i][j] -= 2 * eps\n",
    "            tmpl = func(X)\n",
    "            grads[i][j] = (tmpr - tmpl) / 2 / eps\n",
    "    return np.abs(gradient - grads).max()"
   ],
   "outputs": [],
   "metadata": {
    "collapsed": true
   }
  },
  {
   "cell_type": "markdown",
   "source": [
    "Протестируйте линейный слой при помощи реализованной функции check_gradient: $\\frac{\\partial L}{\\partial x}$ и $\\frac{\\partial L}{\\partial w}$."
   ],
   "metadata": {}
  },
  {
   "cell_type": "code",
   "execution_count": 4,
   "source": [
    "layer = Linear(3, 2)\n",
    "X = np.array([[2, 4, 1]])\n",
    "\n",
    "def f(w):\n",
    "    y = layer.forward(X)\n",
    "    return y.sum()\n",
    "    \n",
    "res = f(None)\n",
    "layer.backward(np.array([np.ones(2)]))\n",
    "check_gradient(f, layer.W, layer.dLdW)"
   ],
   "outputs": [
    {
     "output_type": "execute_result",
     "data": {
      "text/plain": [
       "2.488000916400779e-10"
      ]
     },
     "metadata": {},
     "execution_count": 4
    }
   ],
   "metadata": {
    "collapsed": true
   }
  },
  {
   "cell_type": "markdown",
   "source": [
    "### Часть 3: Сигмоида"
   ],
   "metadata": {}
  },
  {
   "cell_type": "code",
   "execution_count": 5,
   "source": [
    "class Sigmoid:\n",
    "    def __init__(self):\n",
    "        pass\n",
    "    \n",
    "    def forward(self, X):\n",
    "        '''\n",
    "        Passes objects through this layer.\n",
    "        X is np.array of size (N, d)\n",
    "        '''\n",
    "        self.y = sigmoid(X)\n",
    "        return self.y\n",
    "    \n",
    "    def backward(self, dLdy):\n",
    "        '''\n",
    "        1. Compute dLdx.\n",
    "        2. Return dLdx\n",
    "        '''\n",
    "        return dLdy * self.y * (1 - self.y)\n",
    "    \n",
    "    def step(self, learning_rate):\n",
    "        pass"
   ],
   "outputs": [],
   "metadata": {
    "collapsed": true
   }
  },
  {
   "cell_type": "markdown",
   "source": [
    "### Часть 4: Функция потерь"
   ],
   "metadata": {}
  },
  {
   "cell_type": "markdown",
   "source": [
    "Как мы увидели на семинаре, вычисление производной для связки SoftMax + Negative log-likelihood проще чем для этих двух слоев по отдельности. Поэтому мы реализуем их как один класс. Важное замечание: на проходе \"вперед\" важно воспользоваться трюком <a href=\"https://blog.feedly.com/tricks-of-the-trade-logsumexp/\">log-sum-exp</a>, чтобы не столкнуться с численными неустойчивостями."
   ],
   "metadata": {}
  },
  {
   "cell_type": "code",
   "execution_count": 6,
   "source": [
    "class NLLLoss:\n",
    "    def __init__(self):\n",
    "        '''\n",
    "        Applies Softmax operation to inputs and computes NLL loss\n",
    "        '''\n",
    "        #### YOUR CODE HERE\n",
    "        #### (Hint: No code is expected here, just joking)\n",
    "        pass\n",
    "    \n",
    "    def forward(self, X, y):\n",
    "        '''\n",
    "        Passes objects through this layer.\n",
    "        X is np.array of size (N, C), where C is the number of classes\n",
    "        y is np.array of size (N), contains correct labels\n",
    "        '''\n",
    "        #### YOUR CODE HERE\n",
    "        #### Apply layer to input\n",
    "        self.X_max = np.max(X, axis=1)[:, np.newaxis]\n",
    "        self.X = X\n",
    "\n",
    "        if y.ndim == 1:\n",
    "            self.y = np.zeros(X.shape)\n",
    "            self.y[np.arange(X.shape[0]), y] = 1\n",
    "        else:\n",
    "            self.y = y\n",
    "\n",
    "        self.softmax = np.exp(self.X - self.X_max) / np.sum(np.exp(self.X - self.X_max), axis=1)[:, np.newaxis]\n",
    "        self.res = self.softmax\n",
    "        self.nll = -np.log(self.softmax) * self.y / X.shape[0]\n",
    "        return self.nll.sum() / self.X.shape[0]\n",
    "    \n",
    "    def backward(self):\n",
    "        '''\n",
    "        Note that here dLdy = 1 since L = y\n",
    "        1. Compute dLdx\n",
    "        2. Return dLdx\n",
    "        '''\n",
    "        return (self.softmax - self.y) / self.X.shape[0]\n",
    "    "
   ],
   "outputs": [],
   "metadata": {
    "collapsed": true
   }
  },
  {
   "cell_type": "code",
   "execution_count": 7,
   "source": [
    "class MSE:\n",
    "    def __init__(self):\n",
    "        '''\n",
    "        Applies Softmax operation to inputs and computes NLL loss\n",
    "        '''\n",
    "        #### YOUR CODE HERE\n",
    "        #### (Hint: No code is expected here, just joking)\n",
    "        pass\n",
    "    \n",
    "    def forward(self, X, y):\n",
    "        '''\n",
    "        Passes objects through this layer.\n",
    "        X is np.array of size (N, C), where C is the number of classes\n",
    "        y is np.array of size (N), contains correct labels\n",
    "        '''\n",
    "        self.X = X\n",
    "        self.y = y\n",
    "        if y.ndim == 1:\n",
    "            self.y = np.zeros(X.shape)\n",
    "            self.y[np.arange(X.shape[0]), y] = 1\n",
    "        else:\n",
    "            self.y = y\n",
    "\n",
    "        self.res = X\n",
    "        self.mse = (X - y) * (X - y) / 2\n",
    "        return self.mse.sum() / X.shape[0]\n",
    "    \n",
    "    def backward(self):\n",
    "        '''\n",
    "        Note that here dLdy = 1 since L = y\n",
    "        1. Compute dLdx\n",
    "        2. Return dLdx\n",
    "        '''\n",
    "        return (self.X - self.y) / self.X.shape[0]\n",
    "    "
   ],
   "outputs": [],
   "metadata": {}
  },
  {
   "cell_type": "markdown",
   "source": [
    "Протестируйте слой при помощи реализованной функции check_gradient: $\\frac{\\partial L}{\\partial x}$."
   ],
   "metadata": {}
  },
  {
   "cell_type": "code",
   "execution_count": 8,
   "source": [
    "X = np.random.randn(5, 4)\n",
    "y = np.random.randint(4, size=(5,))\n",
    "loss = NLLLoss()\n",
    "loss.forward(X, y)"
   ],
   "outputs": [
    {
     "output_type": "execute_result",
     "data": {
      "text/plain": [
       "0.1924004215403966"
      ]
     },
     "metadata": {},
     "execution_count": 8
    }
   ],
   "metadata": {
    "collapsed": true
   }
  },
  {
   "cell_type": "markdown",
   "source": [
    "### Часть 5, нейронная сеть"
   ],
   "metadata": {}
  },
  {
   "cell_type": "markdown",
   "source": [
    "Теперь, когда у нас есть \"кирпичики\", мы можем написать класс, который будет собирать всю сеть вместе "
   ],
   "metadata": {}
  },
  {
   "cell_type": "code",
   "execution_count": 9,
   "source": [
    "class NeuralNetwork:\n",
    "    def __init__(self, modules, loss):\n",
    "        '''\n",
    "        Constructs network with *modules* as its layers\n",
    "        '''\n",
    "        self.layers = list(modules)\n",
    "        self.loss = loss\n",
    "    \n",
    "    def forward(self, X, y):\n",
    "        for i, layer in enumerate(self.layers):\n",
    "            X = layer.forward(X)\n",
    "        L = loss.forward(X, y)\n",
    "        self.res = loss.res\n",
    "        return L\n",
    "    \n",
    "    def result(self):\n",
    "        return self.res\n",
    "\n",
    "    def backward(self):\n",
    "        '''\n",
    "        dLdy here is a gradient from loss function\n",
    "        '''\n",
    "        dLdy = loss.backward()\n",
    "        for i, layer in enumerate(self.layers[::-1]):\n",
    "            dLdy = layer.backward(dLdy)\n",
    "        return dLdy\n",
    "    \n",
    "    def step(self, learning_rate):\n",
    "        for i, layer in enumerate(self.layers):\n",
    "            layer.step(learning_rate)"
   ],
   "outputs": [],
   "metadata": {
    "collapsed": true
   }
  },
  {
   "cell_type": "markdown",
   "source": [
    "### Часть 6, обучение на простых данных"
   ],
   "metadata": {}
  },
  {
   "cell_type": "code",
   "execution_count": 10,
   "source": [
    "data = np.load('data.npz')\n",
    "X, y = data['arr_0'], data['arr_1']\n",
    "plt.scatter(X[:, 0], X[:, 1], c=y)\n",
    "plt.axis('equal')\n",
    "plt.show()"
   ],
   "outputs": [
    {
     "output_type": "display_data",
     "data": {
      "image/png": "[encoded data removed]",
      "text/plain": [
       "<Figure size 432x288 with 1 Axes>"
      ]
     },
     "metadata": {
      "needs_background": "light"
     }
    }
   ],
   "metadata": {}
  },
  {
   "cell_type": "markdown",
   "source": [
    "Обучите архитектуру вида 2 -> 10 -> 10 -> 3:\n",
    "* Linear(2, 10)\n",
    "* Sigmoid()\n",
    "* Linear(10, 10)\n",
    "* Sigmoid()\n",
    "* Linear(10, 3)\n",
    "\n",
    "В качестве функции потерь используйте NLLLoss.\n",
    "1. Создайте сеть, в цикле запускайте forward, backward, step (используйте learning rate 0.005). \n",
    "2. Нарисуйте график сходимости (величина NLL после каждого обновления).\n",
    "3. Нарисуйте разделяющую поверхность\n",
    "4. Попробуйте подобрать темп обучения. Как меняется сходимость?"
   ],
   "metadata": {}
  },
  {
   "cell_type": "markdown",
   "source": [
    "Отличная визуализация: http://playground.tensorflow.org/"
   ],
   "metadata": {}
  },
  {
   "cell_type": "markdown",
   "source": [
    "## Домашнее задание:"
   ],
   "metadata": {}
  },
  {
   "cell_type": "markdown",
   "source": [
    "* Подоберите темп обучения. Как меняется сходимость? Нарисуйте график оптимального значения функции потерь для различных значений learning_rate\n",
    "* Решите поставленную выше задачу как задачу регрессии с MSE. Изменилась ли разделяющая поверхность?"
   ],
   "metadata": {}
  },
  {
   "cell_type": "markdown",
   "source": [
    "## Сходимость лосса NLL и MSE\n",
    "Для NLL проверили сходимость при lr=0.005, lr=1.0\n",
    "\n",
    "Для MSE проверили сходимость при lr=1.0\n",
    "\n",
    "Сходимость лучше при большем learning_rate. Однако при слишком больших значений ничего не сходится (лосс скачет)"
   ],
   "metadata": {}
  },
  {
   "cell_type": "code",
   "execution_count": 11,
   "source": [
    "nn1 = NeuralNetwork([Linear(2, 10), Sigmoid(), Linear(10, 10), Sigmoid(), Linear(10, 3)], NLLLoss())\n",
    "nn2 = NeuralNetwork([Linear(2, 10), Sigmoid(), Linear(10, 10), Sigmoid(), Linear(10, 3)], NLLLoss())\n",
    "nn3 = NeuralNetwork([Linear(2, 10), Sigmoid(), Linear(10, 10), Sigmoid(), Linear(10, 3)], MSE())"
   ],
   "outputs": [],
   "metadata": {
    "collapsed": true
   }
  },
  {
   "cell_type": "code",
   "execution_count": 12,
   "source": [
    "epochs=3000\n",
    "losses1 = []\n",
    "for i in range(epochs):\n",
    "    losses1.append(nn1.forward(X, y))\n",
    "    nn1.backward()\n",
    "    nn1.step(0.005)\n",
    "losses2 = []\n",
    "for i in range(epochs):\n",
    "    losses2.append(nn2.forward(X, y))\n",
    "    nn2.backward()\n",
    "    nn2.step(1.0)\n",
    "losses3 = []\n",
    "for i in range(epochs):\n",
    "    losses3.append(nn3.forward(X, y))\n",
    "    nn3.backward()\n",
    "    nn3.step(1.0)"
   ],
   "outputs": [],
   "metadata": {}
  },
  {
   "cell_type": "code",
   "execution_count": 21,
   "source": [
    "plt.figure(figsize=(7, 7))\n",
    "plt.grid()\n",
    "plt.plot(np.arange(len(losses1)), losses1)\n",
    "plt.plot(np.arange(len(losses2)), losses2)\n",
    "plt.plot(np.arange(len(losses3)), losses3)\n",
    "plt.scatter(np.argmin(losses1), np.min(losses1))\n",
    "plt.scatter(np.argmin(losses2), np.min(losses2))\n",
    "plt.scatter(np.argmin(losses3), np.min(losses3))\n",
    "plt.title('Loss to epoch graph')\n",
    "plt.xlabel('epoch')\n",
    "plt.ylabel('NLLL value')\n",
    "plt.legend(['nll lr=0.005', 'nll lr=1.0', 'mse lr=1.0'])"
   ],
   "outputs": [
    {
     "output_type": "execute_result",
     "data": {
      "text/plain": [
       "<matplotlib.legend.Legend at 0x7fc4f8d08070>"
      ]
     },
     "metadata": {},
     "execution_count": 21
    },
    {
     "output_type": "display_data",
     "data": {
      "image/png": "[encoded data removed]",
      "text/plain": [
       "<Figure size 504x504 with 1 Axes>"
      ]
     },
     "metadata": {
      "needs_background": "light"
     }
    }
   ],
   "metadata": {}
  },
  {
   "cell_type": "markdown",
   "source": [
    "## Разделяющие поверхности"
   ],
   "metadata": {}
  },
  {
   "cell_type": "code",
   "execution_count": 17,
   "source": [
    "seps = 400\n",
    "X_points = np.linspace(0, 1, num=seps)\n",
    "y_points = np.linspace(0, 1, num=seps)\n",
    "points = []\n",
    "heatmap = np.zeros((seps, seps))\n",
    "for pointy in y_points:\n",
    "    for pointx in X_points:\n",
    "        points.append([pointx, pointy])\n",
    "nn2.forward(points, np.zeros((len(points),), dtype=int))\n",
    "nn3.forward(points, np.zeros((len(points),), dtype=int))\n",
    "\n"
   ],
   "outputs": [
    {
     "output_type": "execute_result",
     "data": {
      "text/plain": [
       "8.134043233511383e-05"
      ]
     },
     "metadata": {},
     "execution_count": 17
    }
   ],
   "metadata": {}
  },
  {
   "cell_type": "code",
   "execution_count": 18,
   "source": [
    "color = nn2.res.argmax(axis=1)\n",
    "plt.figure(figsize=(4, 4))\n",
    "plt.imshow(color.reshape(seps, seps)[::-1,:])\n",
    "plt.xticks(np.arange(0, 250, 50), labels= np.arange(0, 250, 50) / 200)\n",
    "plt.yticks(np.arange(0, 250, 50), labels= np.arange(0, 250, 50)[::-1] / 200)\n",
    "_ = plt.title('Разделение плоскости на области nll')\n",
    "plt.show()\n",
    "\n",
    "color = nn3.res.argmax(axis=1)\n",
    "plt.figure(figsize=(4, 4))\n",
    "plt.imshow(color.reshape(seps, seps)[::-1,:])\n",
    "plt.xticks(np.arange(0, 250, 50), labels= np.arange(0, 250, 50) / 200)\n",
    "plt.yticks(np.arange(0, 250, 50), labels= np.arange(0, 250, 50)[::-1] / 200)\n",
    "_ = plt.title('Разделение плоскости на области mse')\n",
    "plt.show()\n",
    "\n",
    "data = np.load('data.npz')\n",
    "plt.figure(figsize=(4, 4))\n",
    "X, y = data['arr_0'], data['arr_1']\n",
    "plt.scatter(X[:, 0], X[:, 1], c=y)\n",
    "_ = plt.axis('equal')"
   ],
   "outputs": [
    {
     "output_type": "display_data",
     "data": {
      "image/png": "[encoded data removed]",
      "text/plain": [
       "<Figure size 288x288 with 1 Axes>"
      ]
     },
     "metadata": {
      "needs_background": "light"
     }
    },
    {
     "output_type": "display_data",
     "data": {
      "image/png": "[encoded data removed]",
      "text/plain": [
       "<Figure size 288x288 with 1 Axes>"
      ]
     },
     "metadata": {
      "needs_background": "light"
     }
    },
    {
     "output_type": "display_data",
     "data": {
      "image/png": "[encoded data removed]",
      "text/plain": [
       "<Figure size 288x288 with 1 Axes>"
      ]
     },
     "metadata": {
      "needs_background": "light"
     }
    }
   ],
   "metadata": {}
  },
  {
   "cell_type": "markdown",
   "source": [
    "Разделяющие поверхности получились немного разными. Это связано как раз с выбранной функцией потерь."
   ],
   "metadata": {}
  },
  {
   "cell_type": "code",
   "execution_count": null,
   "source": [],
   "outputs": [],
   "metadata": {}
  }
 ],
 "metadata": {
  "kernelspec": {
   "name": "python3",
   "display_name": "Python 3.8.8 64-bit ('sphere': conda)"
  },
  "language_info": {
   "codemirror_mode": {
    "name": "ipython",
    "version": 3
   },
   "file_extension": ".py",
   "mimetype": "text/x-python",
   "name": "python",
   "nbconvert_exporter": "python",
   "pygments_lexer": "ipython3",
   "version": "3.8.8"
  },
  "interpreter": {
   "hash": "4df4e72908c822ced3a2e3263371ed02b918a6e613b4652d0c19c24b9ae5f956"
  }
 },
 "nbformat": 4,
 "nbformat_minor": 2
}