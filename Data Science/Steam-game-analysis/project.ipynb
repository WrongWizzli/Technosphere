{
 "cells": [
  {
   "cell_type": "markdown",
   "id": "remarkable-banks",
   "metadata": {},
   "source": [
    "# Проект\n",
    "\n",
    "## Основная идея\n",
    "\n",
    "Представим, что мы являемся работниками в маленькой студии разработки игр $ SuperStrategiesGGame $. Наша студия планирует создать игру в жанре \"стратегия\" или \"RPG\" и выпустить в Steam, но, поскольку мы - инди-студия, на рекламе особо вывезти не получится. Поэтому, чтобы не попасть впросак, нам необходимо проанализировать рынок стратегий и RPG и выбрать оптимальный месяц выпуска игры (чтобы в большом количестве проектов наше творение не затерялось). Более того, нам необходимо понять, хорошо ли пользователи Steam относятся к жанру стратегий и RPG в целом. Мы сравним стратегии с жанром игр RPG и попробуем понять, выделяется ли один жанр на фоне другого. Если RPG будет выглядеть сильно предпочтительнее стратегии, то мы начнем разработку RPG. Если же нет, то создадим игру в нашем любимом стиле. \n"
   ]
  },
  {
   "cell_type": "code",
   "execution_count": 1,
   "id": "floppy-printer",
   "metadata": {},
   "outputs": [],
   "source": [
    "import pandas as pd\n",
    "import numpy as np\n",
    "import matplotlib.pyplot as plt\n",
    "from datetime import datetime, timedelta\n",
    "from sklearn.linear_model import LinearRegression\n",
    "from tqdm import tqdm\n",
    "from statsmodels.tsa.api import ExponentialSmoothing, SimpleExpSmoothing, Holt\n",
    "import requests\n",
    "from bs4 import BeautifulSoup\n",
    "import json\n",
    "from threading import Lock\n",
    "import re\n",
    "import ast\n",
    "from multiprocessing.dummy import Pool as ThreadPool\n",
    "from scipy import stats"
   ]
  },
  {
   "cell_type": "markdown",
   "id": "variable-quilt",
   "metadata": {},
   "source": [
    "## Шаг 1. Сбор данных\n",
    "Соберем информацию о последних 6000 играх-стратегиях и RPG, выпущенных в Steam. Нас будут интересовать только те игры, в которых количество отзывов >50. Игры с меньшим количеством отзывов мы будем просто учитывать как вышедшие, чтобы корректней спрогнозировать количество выпущенных игр в следующих месяцах."
   ]
  },
  {
   "cell_type": "code",
   "execution_count": 2,
   "id": "pressing-vegetarian",
   "metadata": {},
   "outputs": [],
   "source": [
    "months = {\n",
    "    'jan': 1,\n",
    "    'feb': 2,\n",
    "    'mar': 3,\n",
    "    'apr': 4,\n",
    "    'may': 5,\n",
    "    'jun': 6,\n",
    "    'jul': 7,\n",
    "    'aug': 8,\n",
    "    'sep': 9,\n",
    "    'oct': 10,\n",
    "    'nov': 11,\n",
    "    'dec': 12\n",
    "}"
   ]
  },
  {
   "cell_type": "code",
   "execution_count": 3,
   "id": "through-freedom",
   "metadata": {},
   "outputs": [],
   "source": [
    "lock = Lock()\n",
    "#Multi Request\n",
    "def multi_request(path, repeats=5, headers=None):\n",
    "    for i in range(repeats):\n",
    "        if headers is not None:\n",
    "            req = requests.get(path, headers=headers)\n",
    "        else:\n",
    "            req = requests.get(path)\n",
    "        if req.status_code // 100 == 2:\n",
    "            break\n",
    "    if req.status_code // 100 != 2:\n",
    "        return None\n",
    "    return req"
   ]
  },
  {
   "cell_type": "code",
   "execution_count": 4,
   "id": "prescription-iraqi",
   "metadata": {
    "tags": []
   },
   "outputs": [],
   "source": [
    "def page_parser(ans):\n",
    "\n",
    "    soup = BeautifulSoup(ans.text, 'html.parser')\n",
    "    game_info = {\n",
    "        'url': ans.url,\n",
    "    }\n",
    "    name = soup.find('div', class_=\"apphub_AppName\")\n",
    "    if name is not None:\n",
    "        game_info['name'] = name.text\n",
    "    votes = soup.find('div', class_='user_reviews_summary_row')\n",
    "    if votes is not None:\n",
    "        votes = votes.find('span', class_=\"nonresponsive_hidden responsive_reviewdesc\")\n",
    "        if votes is not None:\n",
    "            votes = votes.text\n",
    "            if not (\"Need more user reviews to generate a score\" in votes):\n",
    "                percentage = re.search(r'([0-9]*\\%)', votes)\n",
    "                if percentage is not None:\n",
    "                    game_info['pos_percentage'] = int(percentage.group()[:-1])\n",
    "                v_count = re.search(r'[ ][0-9,]*[ ]', votes)\n",
    "                if v_count is not None:\n",
    "                    game_info['voters_count'] = int(v_count.group().replace(',', ''))\n",
    "    date = soup.find('div', class_=\"release_date\")\n",
    "    if date is not None:\n",
    "        date = date.find('div', class_=\"date\")\n",
    "        if date is not None:\n",
    "            date = date.text\n",
    "            if not ('soon' in date):\n",
    "                date = date.replace(',', '').split()\n",
    "                if len(date) == 3:\n",
    "                    try:\n",
    "                        game_info['date'] = f\"{int(date[0])}-{months[date[1].lower()]}-{int(date[2])}\"\n",
    "                    except ValueError as e:\n",
    "                        pass\n",
    "                    except KeyError as e:\n",
    "                        pass\n",
    "                elif len(date) == 2:\n",
    "                    try:\n",
    "                        game_info['date'] = f\"8-{months[date[0].lower()]}-{int(date[1])}\"    \n",
    "                    except KeyError as e:\n",
    "                        pass\n",
    "                    except ValueError as e:\n",
    "                        pass\n",
    "    return game_info"
   ]
  },
  {
   "cell_type": "code",
   "execution_count": 15,
   "id": "associate-tucson",
   "metadata": {
    "tags": []
   },
   "outputs": [],
   "source": [
    "#URLS OF LATEST STRATEGIES\n",
    "urls = []\n",
    "for i in tqdm(range(0, 6000, 100)):\n",
    "    ans = multi_request(f\"https://store.steampowered.com/search/results/?query&start={i}&count={i+100}&dynamic_data=&sort_by=Released_DESC&tags=9&snr=1_7_7_240_7&infinite=1\")\n",
    "    answer = re.sub(r'\\\\', '', ans.text)\n",
    "    urls += re.findall('\"(https://store.steampowered.com/app.+?)\"', answer)"
   ]
  },
  {
   "cell_type": "code",
   "execution_count": 5,
   "id": "furnished-edward",
   "metadata": {},
   "outputs": [
    {
     "name": "stderr",
     "output_type": "stream",
     "text": [
      "100%|██████████| 60/60 [00:32<00:00,  1.83it/s]\n"
     ]
    }
   ],
   "source": [
    "#URLS OF LATEST RPGs\n",
    "urls = []\n",
    "for i in tqdm(range(0, 6000, 100)):\n",
    "    ans = multi_request(f\"https://store.steampowered.com/search/results/?query&start={i}&count={i+100}&dynamic_data=&sort_by=Released_DESC&force_infinite=1&tags=122&snr=1_7_7_240_7&infinite=1\")\n",
    "    answer = re.sub(r'\\\\', '', ans.text)\n",
    "    urls += re.findall('\"(https://store.steampowered.com/app.+?)\"', answer)"
   ]
  },
  {
   "cell_type": "code",
   "execution_count": 30,
   "id": "trained-renewal",
   "metadata": {},
   "outputs": [
    {
     "data": {
      "text/plain": [
       "5995"
      ]
     },
     "execution_count": 30,
     "metadata": {},
     "output_type": "execute_result"
    }
   ],
   "source": [
    "len(urls)"
   ]
  },
  {
   "cell_type": "code",
   "execution_count": 17,
   "id": "superior-majority",
   "metadata": {},
   "outputs": [],
   "source": [
    "#Processing all pages with multithreading\n",
    "\n",
    "def proceed_page(url):\n",
    "    if url is None:\n",
    "        with lock:\n",
    "            print('Url is incorrect', file=sys.stderr)\n",
    "        return None\n",
    "    ans = multi_request(url)\n",
    "    if ans is None:\n",
    "        with lock:\n",
    "            print(f'Page cannot be reached with web-address: {url}')\n",
    "        return None\n",
    "    page = page_parser(ans)\n",
    "    \n",
    "    #require './jsons' folder. Uncomment if you have one and need to save .json files\n",
    "    #try:\n",
    "    #    with open('./jsons_rpg/' + page['name'].replace(' ', '_').replace('/','_') + '.json', 'w') as out:\n",
    "    #        json.dump(page, out)\n",
    "    #except Exception as e:\n",
    "    #    pass\n",
    "    return page\n",
    "\n",
    "with ThreadPool(10) as pool:\n",
    "    pages = pool.map(proceed_page, urls)"
   ]
  },
  {
   "cell_type": "code",
   "execution_count": 18,
   "id": "advanced-anime",
   "metadata": {},
   "outputs": [],
   "source": [
    "df = pd.DataFrame(columns = ['date', 'name', 'pos_percentage', 'voters_count', 'url'])"
   ]
  },
  {
   "cell_type": "code",
   "execution_count": 19,
   "id": "painted-validation",
   "metadata": {},
   "outputs": [],
   "source": [
    "for page in pages:\n",
    "    tmp_page = {}\n",
    "    for i in page:\n",
    "        if i in df.columns:\n",
    "            tmp_page[i] = page[i]\n",
    "    if 'date' in tmp_page:\n",
    "        dates = tmp_page['date'].split('-')\n",
    "        tmp_page['date'] = f\"{dates[2]}-{dates[1].zfill(2)}-{dates[0].zfill(2)}\"\n",
    "        df = df.append(tmp_page, ignore_index=True)"
   ]
  },
  {
   "cell_type": "code",
   "execution_count": 31,
   "id": "physical-briefing",
   "metadata": {},
   "outputs": [
    {
     "data": {
      "text/html": [
       "<div>\n",
       "<style scoped>\n",
       "    .dataframe tbody tr th:only-of-type {\n",
       "        vertical-align: middle;\n",
       "    }\n",
       "\n",
       "    .dataframe tbody tr th {\n",
       "        vertical-align: top;\n",
       "    }\n",
       "\n",
       "    .dataframe thead th {\n",
       "        text-align: right;\n",
       "    }\n",
       "</style>\n",
       "<table border=\"1\" class=\"dataframe\">\n",
       "  <thead>\n",
       "    <tr style=\"text-align: right;\">\n",
       "      <th></th>\n",
       "      <th>Unnamed: 0</th>\n",
       "      <th>date</th>\n",
       "      <th>name</th>\n",
       "      <th>pos_percentage</th>\n",
       "      <th>voters_count</th>\n",
       "      <th>url</th>\n",
       "    </tr>\n",
       "  </thead>\n",
       "  <tbody>\n",
       "    <tr>\n",
       "      <th>0</th>\n",
       "      <td>0</td>\n",
       "      <td>1985-06-01</td>\n",
       "      <td>Rogue</td>\n",
       "      <td>97.0</td>\n",
       "      <td>221.0</td>\n",
       "      <td>https://store.steampowered.com/app/1443430/Rog...</td>\n",
       "    </tr>\n",
       "    <tr>\n",
       "      <th>1</th>\n",
       "      <td>1</td>\n",
       "      <td>1986-07-01</td>\n",
       "      <td>Temple of Apshai Trilogy</td>\n",
       "      <td>NaN</td>\n",
       "      <td>NaN</td>\n",
       "      <td>https://store.steampowered.com/app/1436930/Tem...</td>\n",
       "    </tr>\n",
       "    <tr>\n",
       "      <th>2</th>\n",
       "      <td>2</td>\n",
       "      <td>1990-04-14</td>\n",
       "      <td>BatMUD</td>\n",
       "      <td>87.0</td>\n",
       "      <td>100.0</td>\n",
       "      <td>https://store.steampowered.com/app/616920/BatM...</td>\n",
       "    </tr>\n",
       "    <tr>\n",
       "      <th>3</th>\n",
       "      <td>3</td>\n",
       "      <td>1991-01-01</td>\n",
       "      <td>Planet's Edge</td>\n",
       "      <td>NaN</td>\n",
       "      <td>NaN</td>\n",
       "      <td>https://store.steampowered.com/app/1367170/Pla...</td>\n",
       "    </tr>\n",
       "    <tr>\n",
       "      <th>4</th>\n",
       "      <td>4</td>\n",
       "      <td>1991-06-01</td>\n",
       "      <td>Lost Patrol</td>\n",
       "      <td>NaN</td>\n",
       "      <td>NaN</td>\n",
       "      <td>https://store.steampowered.com/app/1392750/Los...</td>\n",
       "    </tr>\n",
       "    <tr>\n",
       "      <th>5</th>\n",
       "      <td>5</td>\n",
       "      <td>1993-01-01</td>\n",
       "      <td>The Legacy: Realm of Terror</td>\n",
       "      <td>NaN</td>\n",
       "      <td>NaN</td>\n",
       "      <td>https://store.steampowered.com/app/1257890/The...</td>\n",
       "    </tr>\n",
       "    <tr>\n",
       "      <th>6</th>\n",
       "      <td>6</td>\n",
       "      <td>1994-02-08</td>\n",
       "      <td>Xuan-Yuan Sword2</td>\n",
       "      <td>100.0</td>\n",
       "      <td>12.0</td>\n",
       "      <td>https://store.steampowered.com/app/1508740/Xua...</td>\n",
       "    </tr>\n",
       "    <tr>\n",
       "      <th>7</th>\n",
       "      <td>7</td>\n",
       "      <td>1995-01-06</td>\n",
       "      <td>Xuan-Yuan Sword: Dance of the Maple Leaves</td>\n",
       "      <td>95.0</td>\n",
       "      <td>91.0</td>\n",
       "      <td>https://store.steampowered.com/app/1508750/Xua...</td>\n",
       "    </tr>\n",
       "    <tr>\n",
       "      <th>8</th>\n",
       "      <td>8</td>\n",
       "      <td>1996-05-31</td>\n",
       "      <td>Sea Legends</td>\n",
       "      <td>NaN</td>\n",
       "      <td>NaN</td>\n",
       "      <td>https://store.steampowered.com/app/1373770/Sea...</td>\n",
       "    </tr>\n",
       "    <tr>\n",
       "      <th>9</th>\n",
       "      <td>9</td>\n",
       "      <td>1997-09-30</td>\n",
       "      <td>Have a N.I.C.E day!</td>\n",
       "      <td>NaN</td>\n",
       "      <td>NaN</td>\n",
       "      <td>https://store.steampowered.com/app/844940/Have...</td>\n",
       "    </tr>\n",
       "  </tbody>\n",
       "</table>\n",
       "</div>"
      ],
      "text/plain": [
       "   Unnamed: 0        date                                        name  \\\n",
       "0           0  1985-06-01                                       Rogue   \n",
       "1           1  1986-07-01                    Temple of Apshai Trilogy   \n",
       "2           2  1990-04-14                                      BatMUD   \n",
       "3           3  1991-01-01                               Planet's Edge   \n",
       "4           4  1991-06-01                                 Lost Patrol   \n",
       "5           5  1993-01-01                 The Legacy: Realm of Terror   \n",
       "6           6  1994-02-08                            Xuan-Yuan Sword2   \n",
       "7           7  1995-01-06  Xuan-Yuan Sword: Dance of the Maple Leaves   \n",
       "8           8  1996-05-31                                 Sea Legends   \n",
       "9           9  1997-09-30                         Have a N.I.C.E day!   \n",
       "\n",
       "   pos_percentage  voters_count  \\\n",
       "0            97.0         221.0   \n",
       "1             NaN           NaN   \n",
       "2            87.0         100.0   \n",
       "3             NaN           NaN   \n",
       "4             NaN           NaN   \n",
       "5             NaN           NaN   \n",
       "6           100.0          12.0   \n",
       "7            95.0          91.0   \n",
       "8             NaN           NaN   \n",
       "9             NaN           NaN   \n",
       "\n",
       "                                                 url  \n",
       "0  https://store.steampowered.com/app/1443430/Rog...  \n",
       "1  https://store.steampowered.com/app/1436930/Tem...  \n",
       "2  https://store.steampowered.com/app/616920/BatM...  \n",
       "3  https://store.steampowered.com/app/1367170/Pla...  \n",
       "4  https://store.steampowered.com/app/1392750/Los...  \n",
       "5  https://store.steampowered.com/app/1257890/The...  \n",
       "6  https://store.steampowered.com/app/1508740/Xua...  \n",
       "7  https://store.steampowered.com/app/1508750/Xua...  \n",
       "8  https://store.steampowered.com/app/1373770/Sea...  \n",
       "9  https://store.steampowered.com/app/844940/Have...  "
      ]
     },
     "execution_count": 31,
     "metadata": {},
     "output_type": "execute_result"
    }
   ],
   "source": [
    "df2 = df.sort_values(['date', 'voters_count'])\n",
    "df2.head(10)"
   ]
  },
  {
   "cell_type": "code",
   "execution_count": 21,
   "id": "lasting-vision",
   "metadata": {},
   "outputs": [],
   "source": [
    "df2.to_csv(\"rpg_info.csv\", index=False)"
   ]
  },
  {
   "cell_type": "markdown",
   "id": "respiratory-police",
   "metadata": {},
   "source": [
    "## Шаг 2. Визуализация Данных\n",
    "Выведем график количества выпущенных игр в зависимости от временного промежутка, а также общие графики отзывов"
   ]
  },
  {
   "cell_type": "markdown",
   "id": "indian-shepherd",
   "metadata": {},
   "source": [
    "### Количество выпущенных игр\n",
    "При визуализации не будем брать в учёт игры, выпущенные раньше 2018 года. Глобально ситуация 2010-2017 годов почти не отличается от 2018 года, но при этом из-за них график сжимается, и становится сложнее его просматривать."
   ]
  },
  {
   "cell_type": "code",
   "execution_count": 2,
   "id": "intended-fighter",
   "metadata": {},
   "outputs": [],
   "source": [
    "df_rpg = pd.read_csv('./rpg_info2.csv').drop(columns=['url'])\n",
    "df_str = pd.read_csv('./str_info2.csv').drop(columns=['url'])"
   ]
  },
  {
   "cell_type": "code",
   "execution_count": 3,
   "id": "boolean-expansion",
   "metadata": {},
   "outputs": [
    {
     "data": {
      "text/html": [
       "<div>\n",
       "<style scoped>\n",
       "    .dataframe tbody tr th:only-of-type {\n",
       "        vertical-align: middle;\n",
       "    }\n",
       "\n",
       "    .dataframe tbody tr th {\n",
       "        vertical-align: top;\n",
       "    }\n",
       "\n",
       "    .dataframe thead th {\n",
       "        text-align: right;\n",
       "    }\n",
       "</style>\n",
       "<table border=\"1\" class=\"dataframe\">\n",
       "  <thead>\n",
       "    <tr style=\"text-align: right;\">\n",
       "      <th></th>\n",
       "      <th>date</th>\n",
       "      <th>name</th>\n",
       "      <th>pos_percentage</th>\n",
       "      <th>voters_count</th>\n",
       "    </tr>\n",
       "  </thead>\n",
       "  <tbody>\n",
       "    <tr>\n",
       "      <th>0</th>\n",
       "      <td>2018-02-01</td>\n",
       "      <td>Freeman: Guerrilla Warfare</td>\n",
       "      <td>91.0</td>\n",
       "      <td>82.0</td>\n",
       "    </tr>\n",
       "    <tr>\n",
       "      <th>1</th>\n",
       "      <td>2018-05-09</td>\n",
       "      <td>Tomscape</td>\n",
       "      <td>NaN</td>\n",
       "      <td>NaN</td>\n",
       "    </tr>\n",
       "    <tr>\n",
       "      <th>2</th>\n",
       "      <td>2018-06-06</td>\n",
       "      <td>Hakoniwa Explorer Plus</td>\n",
       "      <td>85.0</td>\n",
       "      <td>341.0</td>\n",
       "    </tr>\n",
       "  </tbody>\n",
       "</table>\n",
       "</div>"
      ],
      "text/plain": [
       "         date                        name  pos_percentage  voters_count\n",
       "0  2018-02-01  Freeman: Guerrilla Warfare            91.0          82.0\n",
       "1  2018-05-09                    Tomscape             NaN           NaN\n",
       "2  2018-06-06      Hakoniwa Explorer Plus            85.0         341.0"
      ]
     },
     "execution_count": 3,
     "metadata": {},
     "output_type": "execute_result"
    }
   ],
   "source": [
    "df_rpg2 = df_rpg[(df_rpg.date > '2017-12-31') & (df_rpg.date < '2021-05-10')].reset_index(drop=True)\n",
    "df_str2 = df_str[(df_str.date > '2017-12-31') & (df_str.date < '2021-05-10')].reset_index(drop=True)\n",
    "df_rpg2.head(3)"
   ]
  },
  {
   "cell_type": "markdown",
   "id": "living-chart",
   "metadata": {},
   "source": [
    "### Выпуск игр\n",
    "Выведем информацию о количестве игр, выпущенных по месяцам"
   ]
  },
  {
   "cell_type": "code",
   "execution_count": 4,
   "id": "finnish-joining",
   "metadata": {},
   "outputs": [
    {
     "name": "stdout",
     "output_type": "stream",
     "text": [
      "\n",
      "    Number of RPG games:      5477 \n",
      "    Number of strategy games: 5533\n",
      " \n"
     ]
    }
   ],
   "source": [
    "dates_rpg = df_rpg2['date']\n",
    "dates_str = df_str2['date']\n",
    "print(f\"\"\"\n",
    "    Number of RPG games:      {dates_rpg.shape[0]} \n",
    "    Number of strategy games: {dates_str.shape[0]}\n",
    " \"\"\")"
   ]
  },
  {
   "cell_type": "code",
   "execution_count": 5,
   "id": "geographic-lemon",
   "metadata": {},
   "outputs": [],
   "source": [
    "def count_released_games(dates):\n",
    "    counter = {}\n",
    "    for ind, val in dates.items():\n",
    "        if not (val[:7] in counter):\n",
    "            counter[val[:7]] = 1\n",
    "        else:\n",
    "            counter[val[:7]] += 1\n",
    "    return counter\n",
    "rpg_counter = count_released_games(dates_rpg)\n",
    "str_counter = count_released_games(dates_str)"
   ]
  },
  {
   "cell_type": "code",
   "execution_count": 6,
   "id": "united-channel",
   "metadata": {},
   "outputs": [
    {
     "data": {
      "image/png": "[encoded data removed]",
      "text/plain": [
       "<Figure size 1728x864 with 2 Axes>"
      ]
     },
     "metadata": {
      "needs_background": "light"
     },
     "output_type": "display_data"
    }
   ],
   "source": [
    "fig, ax = plt.subplots(nrows=2)\n",
    "fig.suptitle(\"Зависимость количества выпущенных игр от месяца\", fontsize=18)\n",
    "fig.set_figheight(12)\n",
    "fig.set_figwidth(24)\n",
    "\n",
    "ax[0].bar(rpg_counter.keys(), list(rpg_counter.values()))\n",
    "for label in ax[0].xaxis.get_ticklabels()[::2]:\n",
    "    label.set_visible(False)\n",
    "plt.setp(ax[0].xaxis.get_majorticklabels(), rotation=45)\n",
    "ax[0].set_ylabel('Количество выпущенных RPG', fontsize=14)\n",
    "ax[0].set_title('RPG игры', fontsize=14)\n",
    "for date, value in zip(rpg_counter.keys(), rpg_counter.values()):\n",
    "    ax[0].text(date, value + 2, f\"{value}\", fontsize=14, horizontalalignment='center')\n",
    "\n",
    "ax[1].bar(str_counter.keys(), list(str_counter.values()))\n",
    "for label in ax[1].xaxis.get_ticklabels()[::2]:\n",
    "    label.set_visible(False)\n",
    "plt.setp(ax[1].xaxis.get_majorticklabels(), rotation=45)\n",
    "ax[1].set_xlabel('Месяц', fontsize=14)\n",
    "ax[1].set_ylabel('Количество выпущенных стратегий', fontsize=14)\n",
    "for date, value in zip(str_counter.keys(), str_counter.values()):\n",
    "    ax[1].text(date, value + 2, f\"{value}\", fontsize=14, horizontalalignment='center')\n",
    "_ = ax[1].set_title('Стратегии', fontsize=14)"
   ]
  },
  {
   "cell_type": "markdown",
   "id": "wrong-repository",
   "metadata": {},
   "source": [
    "Сразу отметим одну важную вещь: бум игр и дополнений к ним для обоих жанров произошел в конце 2019 года (когда как раз началась пандемия). Посмотрим теперь, какое количество игр за последние 3 года имели оценку в Steam и больше 50 отзывов."
   ]
  },
  {
   "cell_type": "code",
   "execution_count": 7,
   "id": "native-translator",
   "metadata": {},
   "outputs": [
    {
     "name": "stdout",
     "output_type": "stream",
     "text": [
      "\n",
      "    Number of rated RPG games:      846\n",
      "    Number of rated strategy games: 774\n",
      " \n"
     ]
    }
   ],
   "source": [
    "df_rpg3 = df_rpg2.dropna(subset=['voters_count'])\n",
    "df_rpg3 = df_rpg3[df_rpg3.voters_count > 50]\n",
    "df_str3 = df_str2.dropna(subset=['voters_count'])\n",
    "df_str3 = df_str3[df_str3.voters_count > 50]\n",
    "print(f\"\"\"\n",
    "    Number of rated RPG games:      {df_rpg3.shape[0]}\n",
    "    Number of rated strategy games: {df_str3.shape[0]}\n",
    " \"\"\")"
   ]
  },
  {
   "cell_type": "code",
   "execution_count": 8,
   "id": "printable-burns",
   "metadata": {},
   "outputs": [
    {
     "data": {
      "image/png": "[encoded data removed]",
      "text/plain": [
       "<Figure size 1728x864 with 2 Axes>"
      ]
     },
     "metadata": {
      "needs_background": "light"
     },
     "output_type": "display_data"
    }
   ],
   "source": [
    "rpg_counter = count_released_games(df_rpg3['date'])\n",
    "str_counter = count_released_games(df_str3['date'])\n",
    "\n",
    "fig, ax = plt.subplots(nrows=2)\n",
    "fig.suptitle(\"Количество выпущенных игр с 50+ оценками в зависимости от месяца\", fontsize=14)\n",
    "fig.set_figheight(12)\n",
    "fig.set_figwidth(24)\n",
    "\n",
    "ax[0].bar(rpg_counter.keys(), list(rpg_counter.values()))\n",
    "for label in ax[0].xaxis.get_ticklabels()[::2]:\n",
    "    label.set_visible(False)\n",
    "plt.setp(ax[0].xaxis.get_majorticklabels(), rotation=45)\n",
    "ax[0].set_ylabel('Кол-во RPG игр с 50+ оценками', fontsize=14)\n",
    "ax[0].set_title('RPG игры', fontsize=14)\n",
    "for date, value in zip(rpg_counter.keys(), rpg_counter.values()):\n",
    "    ax[0].text(date, value + 0.6, f\"{value}\", fontsize=14, horizontalalignment='center')\n",
    "\n",
    "ax[1].bar(str_counter.keys(), list(str_counter.values()))\n",
    "for label in ax[1].xaxis.get_ticklabels()[::2]:\n",
    "    label.set_visible(False)\n",
    "plt.setp(ax[1].xaxis.get_majorticklabels(), rotation=45)\n",
    "ax[1].set_xlabel('Месяц', fontsize=14)\n",
    "ax[1].set_ylabel('Кол-во стратегий с 50+ оценками', fontsize=14)\n",
    "for date, value in zip(str_counter.keys(), str_counter.values()):\n",
    "    ax[1].text(date, value + 0.6, f\"{value}\", fontsize=14, horizontalalignment='center')\n",
    "_ = ax[1].set_title('Стратегии', fontsize=14)"
   ]
  },
  {
   "cell_type": "markdown",
   "id": "opening-birthday",
   "metadata": {},
   "source": [
    "И вновь ситуация  довольно похожая. Отметим, что кол-во игр с 50+ отзывами уже гораздо меньше, чем в принципе выпущенных.\n",
    "\n",
    "Оценим теперь количество высокооценных игр (не меньше 80% положительных отзывов) из оставшихся наборов и занесем все результаты в табличку."
   ]
  },
  {
   "cell_type": "code",
   "execution_count": 9,
   "id": "polished-estate",
   "metadata": {},
   "outputs": [],
   "source": [
    "df_rpg4 = df_rpg3.dropna(subset=['pos_percentage'])\n",
    "df_rpg4 = df_rpg4[df_rpg4.pos_percentage >= 80]\n",
    "df_str4 = df_str3.dropna(subset=['pos_percentage'])\n",
    "df_str4 = df_str4[df_str4.pos_percentage >= 80]"
   ]
  },
  {
   "cell_type": "code",
   "execution_count": 10,
   "id": "modern-defendant",
   "metadata": {},
   "outputs": [
    {
     "data": {
      "text/html": [
       "<div>\n",
       "<style scoped>\n",
       "    .dataframe tbody tr th:only-of-type {\n",
       "        vertical-align: middle;\n",
       "    }\n",
       "\n",
       "    .dataframe tbody tr th {\n",
       "        vertical-align: top;\n",
       "    }\n",
       "\n",
       "    .dataframe thead th {\n",
       "        text-align: right;\n",
       "    }\n",
       "</style>\n",
       "<table border=\"1\" class=\"dataframe\">\n",
       "  <thead>\n",
       "    <tr style=\"text-align: right;\">\n",
       "      <th></th>\n",
       "      <th>N Released</th>\n",
       "      <th>N votes &gt; 50</th>\n",
       "      <th>N score &gt; 80%</th>\n",
       "    </tr>\n",
       "  </thead>\n",
       "  <tbody>\n",
       "    <tr>\n",
       "      <th>RPG</th>\n",
       "      <td>5477</td>\n",
       "      <td>846</td>\n",
       "      <td>495</td>\n",
       "    </tr>\n",
       "    <tr>\n",
       "      <th>Strategies</th>\n",
       "      <td>5533</td>\n",
       "      <td>774</td>\n",
       "      <td>421</td>\n",
       "    </tr>\n",
       "  </tbody>\n",
       "</table>\n",
       "</div>"
      ],
      "text/plain": [
       "           N Released N votes > 50 N score > 80%\n",
       "RPG              5477          846           495\n",
       "Strategies       5533          774           421"
      ]
     },
     "execution_count": 10,
     "metadata": {},
     "output_type": "execute_result"
    }
   ],
   "source": [
    "Brief_info_df = pd.DataFrame(columns = ['N Released', 'N votes > 50', 'N score > 80%'])\n",
    "Brief_info_df.loc[0] = [dates_rpg.shape[0], df_rpg3.shape[0], df_rpg4.shape[0]]\n",
    "Brief_info_df.loc[1] = [dates_str.shape[0], df_str3.shape[0], df_str4.shape[0]]\n",
    "Brief_info_df.index = ['RPG', 'Strategies']\n",
    "Brief_info_df"
   ]
  },
  {
   "cell_type": "markdown",
   "id": "dimensional-principle",
   "metadata": {},
   "source": [
    "Количество высокооцененных игр составляет менее 10% от всех, что говорит об избирательности пользователей. Некачественно сделанный проект подвергнется суровой критике и не будет принят публикой. "
   ]
  },
  {
   "cell_type": "markdown",
   "id": "encouraging-excellence",
   "metadata": {},
   "source": [
    "## Шаг 3. Гипотезы\n",
    "Проверим мы две гипотезы: \n",
    "\n",
    "1) В период COVID-19 (официально с 1 декабря 2019 года) количество игр не увеличилось.\n",
    "\n",
    "2) RPG игры имеют больший интерес и отклик у пользователей Steam, чем стратегии. В таком случае мы будем делать RPG игру, чтобы получить больше прибыли. Иначе выберем                                стратегию, так как это наиболее привычный и удобный жанр для нашей студии"
   ]
  },
  {
   "cell_type": "markdown",
   "id": "advanced-kidney",
   "metadata": {},
   "source": [
    "### Гипотеза 1.\n",
    "Оценим первую гипотезу с помощью средних значений и стандартного отклонения. Для старых игр возьмем зеркально информацию об играх за последние 2,5 года с момента 1 декабря 2019 года, чтобы уравновесить наборы по временным промежуткам. Для новых игр уберем май, апрель и март 2021 года, так как за маленький промежуток времени отзывы могли не успеть накопиться."
   ]
  },
  {
   "cell_type": "code",
   "execution_count": 11,
   "id": "burning-sitting",
   "metadata": {},
   "outputs": [],
   "source": [
    "df_rpg = pd.read_csv('./rpg_info2.csv').drop(columns=['url', 'name'])\n",
    "df_str = pd.read_csv('./str_info2.csv').drop(columns=['url', 'name'])"
   ]
  },
  {
   "cell_type": "code",
   "execution_count": 12,
   "id": "nominated-treasurer",
   "metadata": {},
   "outputs": [],
   "source": [
    "df_rpg_old = df_rpg[(df_rpg.date < '2019-12-01') & (df_rpg.date >='2017-08-01')]\n",
    "df_rpg_new = df_rpg[(df_rpg.date >= '2019-12-01') & (df_rpg.date < '2021-03-01')]\n",
    "df_str_old = df_str[(df_str.date < '2019-12-01') & (df_str.date >='2017-08-01')]\n",
    "df_str_new = df_str[(df_str.date >= '2019-12-01') & (df_str.date < '2021-03-01')]\n"
   ]
  },
  {
   "cell_type": "code",
   "execution_count": 13,
   "id": "pacific-pharmacy",
   "metadata": {},
   "outputs": [],
   "source": [
    "def count_released_games(dates):\n",
    "    counter = {}\n",
    "    for ind, val in dates.items():\n",
    "        if not (val[:7] in counter):\n",
    "            counter[val[:7]] = 1\n",
    "        else:\n",
    "            counter[val[:7]] += 1\n",
    "    return counter\n",
    "rpg_old_votes = list(count_released_games(df_rpg_old['date']).values())\n",
    "rpg_new_votes = list(count_released_games(df_rpg_new['date']).values())\n",
    "str_old_votes = list(count_released_games(df_str_old['date']).values())\n",
    "str_new_votes = list(count_released_games(df_str_new['date']).values())"
   ]
  },
  {
   "cell_type": "code",
   "execution_count": 14,
   "id": "korean-toronto",
   "metadata": {},
   "outputs": [
    {
     "name": "stdout",
     "output_type": "stream",
     "text": [
      "[286, 218, 264, 332, 239, 247, 236, 270, 315, 279, 354, 290, 248, 266, 301]\n",
      "[4, 1, 2, 1, 1, 1, 2, 2, 4, 3, 7, 1, 4, 2, 4, 5, 3, 7, 7, 78, 251, 215]\n",
      "-----------------\n",
      "[222, 221, 255, 241, 249, 283, 265, 297, 261, 318, 355, 290, 317, 266, 277]\n",
      "[1, 1, 2, 1, 1, 4, 2, 2, 2, 2, 2, 3, 3, 2, 4, 1, 7, 1, 7, 6, 7, 5, 6, 12, 130, 230, 243]\n"
     ]
    }
   ],
   "source": [
    "print(rpg_new_votes, rpg_old_votes, sep='\\n')\n",
    "print('-----------------')\n",
    "print(str_new_votes, str_old_votes, sep='\\n')"
   ]
  },
  {
   "cell_type": "markdown",
   "id": "threaded-relative",
   "metadata": {},
   "source": [
    "Даже без построения графиков разница кажется довольно заметной:)"
   ]
  },
  {
   "cell_type": "code",
   "execution_count": 15,
   "id": "stone-bailey",
   "metadata": {},
   "outputs": [
    {
     "data": {
      "image/png": "[encoded data removed]",
      "text/plain": [
       "<Figure size 432x288 with 1 Axes>"
      ]
     },
     "metadata": {
      "needs_background": "light"
     },
     "output_type": "display_data"
    }
   ],
   "source": [
    "means = np.asarray([np.mean(rpg_new_votes), np.mean(rpg_old_votes)])\n",
    "y = np.arange(2)\n",
    "stds = np.asarray([np.std(rpg_new_votes), np.std(rpg_old_votes)])\n",
    "\n",
    "plt.errorbar(means, y, xerr = stds, linestyle='None', marker='o')\n",
    "plt.errorbar( np.mean(means), y.shape[0] ,xerr =  np.std(means), linestyle='None', marker='o')\n",
    "_ = plt.title('Дисперсионный анализ RPG игр')"
   ]
  },
  {
   "cell_type": "code",
   "execution_count": 16,
   "id": "arranged-equilibrium",
   "metadata": {},
   "outputs": [
    {
     "data": {
      "image/png": "[encoded data removed]",
      "text/plain": [
       "<Figure size 432x288 with 1 Axes>"
      ]
     },
     "metadata": {
      "needs_background": "light"
     },
     "output_type": "display_data"
    }
   ],
   "source": [
    "means = np.asarray([np.mean(str_new_votes), np.mean(str_old_votes)])\n",
    "y = np.arange(2)\n",
    "stds = np.asarray([np.std(str_new_votes), np.std(str_old_votes)])\n",
    "\n",
    "plt.errorbar(means, y, xerr = stds, linestyle='None', marker='o')\n",
    "plt.errorbar( np.mean(means), y.shape[0] ,xerr =  np.std(means), linestyle='None', marker='o')\n",
    "_ = plt.title('Дисперсионный анализ Стратегий')"
   ]
  },
  {
   "cell_type": "markdown",
   "id": "organic-digest",
   "metadata": {},
   "source": [
    "Группы сильно уверенны в себе по сравнению с разбросом средних. Разброс средних огромный -> вероятность того, что наши группы (игр, выпущенных до и после пандемии) принадлежат одной совокупности крайне мала."
   ]
  },
  {
   "cell_type": "code",
   "execution_count": 17,
   "id": "ideal-cabinet",
   "metadata": {},
   "outputs": [
    {
     "name": "stdout",
     "output_type": "stream",
     "text": [
      "\n",
      "Strategies: F = 182.64, p = 1.6904355824749132e-16\n",
      "RPG:        F = 162.62, p = 1.0249322185009762e-14\n",
      "\n"
     ]
    }
   ],
   "source": [
    "F_str, p_str = stats.f_oneway(str_new_votes, str_old_votes)\n",
    "F_rpg, p_rpg = stats.f_oneway(rpg_new_votes, rpg_old_votes)\n",
    "print(f\"\"\"\n",
    "Strategies: F = {F_str:.2f}, p = {p_str}\n",
    "RPG:        F = {F_rpg:.2f}, p = {p_rpg}\n",
    "\"\"\")"
   ]
  },
  {
   "cell_type": "markdown",
   "id": "planned-notification",
   "metadata": {},
   "source": [
    "p - крайне мало -> мы можем отвергнуть гипотезу о том, что пандемия не повлияла на количество выпускаемых проектов."
   ]
  },
  {
   "cell_type": "markdown",
   "id": "minute-perception",
   "metadata": {},
   "source": [
    "### Гипотеза 2.\n",
    "\n",
    "Мы имеем две несвязанные выборки и предположение о том, что один жанр оценивается лучше другого. Для начала найдем количество положительных отзывов за каждый месяц. Для этого нам понадобится немного допредобработать наш датасет. После этого построим гипотезу с помощью критерия Манна-Уитни. Возьмем +- новые проекты (всё, что было выпущено после 2016 года)."
   ]
  },
  {
   "cell_type": "code",
   "execution_count": 18,
   "id": "elect-waters",
   "metadata": {},
   "outputs": [],
   "source": [
    "df_rpg = pd.read_csv('./rpg_info2.csv').drop(columns=['url', 'name'])\n",
    "df_str = pd.read_csv('./str_info2.csv').drop(columns=['url', 'name'])"
   ]
  },
  {
   "cell_type": "code",
   "execution_count": 19,
   "id": "correct-indie",
   "metadata": {},
   "outputs": [],
   "source": [
    "# Возьмем в этот раз игры от 2016 года выпуска (не очень старые игры), чтобы посмотреть как более глобальную картину\n",
    "df_rpg = df_rpg[df_rpg.date >='2016-01-01'].dropna(subset=['pos_percentage', 'voters_count'])\n",
    "df_str = df_str[df_str.date >='2016-01-01'].dropna(subset=['pos_percentage', 'voters_count'])"
   ]
  },
  {
   "cell_type": "code",
   "execution_count": 20,
   "id": "proprietary-grain",
   "metadata": {},
   "outputs": [],
   "source": [
    "def count_positive_votes(df):\n",
    "    '''\n",
    "    returns dict object where keys - year-month strings\n",
    "                              values - number of positive votes during the key year-month\n",
    "    '''\n",
    "    dates = {}\n",
    "    for ind, row in df.iterrows():\n",
    "        if row['date'][:7] in dates:\n",
    "            dates[row['date'][:7]] += int(row['voters_count'] * row['pos_percentage'] / 100)\n",
    "        else:\n",
    "            dates[row['date'][:7]] = int(row['voters_count'] * row['pos_percentage'] / 100)\n",
    "    return dates\n",
    "\n",
    "\n",
    "rpg_pos_votes = count_positive_votes(df_rpg)\n",
    "str_pos_votes = count_positive_votes(df_str)"
   ]
  },
  {
   "cell_type": "code",
   "execution_count": 21,
   "id": "determined-iraqi",
   "metadata": {},
   "outputs": [],
   "source": [
    "rpg_pos_votes_val = sorted(list(rpg_pos_votes.values()))\n",
    "str_pos_votes_val = sorted(list(str_pos_votes.values()))"
   ]
  },
  {
   "cell_type": "code",
   "execution_count": 22,
   "id": "institutional-gentleman",
   "metadata": {},
   "outputs": [
    {
     "data": {
      "text/plain": [
       "MannwhitneyuResult(statistic=832.5, pvalue=0.3305597336841024)"
      ]
     },
     "execution_count": 22,
     "metadata": {},
     "output_type": "execute_result"
    }
   ],
   "source": [
    "stats.mannwhitneyu(str_pos_votes_val, rpg_pos_votes_val, alternative='less')"
   ]
  },
  {
   "cell_type": "markdown",
   "id": "desirable-british",
   "metadata": {},
   "source": [
    "p = 0.33 -> мы не можем отвергнуть гипотезу, но и принять альтернативную гипотезу мы также не можем. Поэтому мы не будем разрабатывать RPG игру, так как это статистически не оправдано. Воспользуемся теперь критерием Стюдьента, чтобы закрепить нашу догадку."
   ]
  },
  {
   "cell_type": "code",
   "execution_count": 23,
   "id": "certain-development",
   "metadata": {},
   "outputs": [
    {
     "data": {
      "text/plain": [
       "Ttest_indResult(statistic=-0.9899230675831711, pvalue=0.32512383909185694)"
      ]
     },
     "execution_count": 23,
     "metadata": {},
     "output_type": "execute_result"
    }
   ],
   "source": [
    "stats.ttest_ind(str_pos_votes_val, rpg_pos_votes_val)"
   ]
  },
  {
   "cell_type": "markdown",
   "id": "current-robin",
   "metadata": {},
   "source": [
    "Опять-таки мы получили p = 0.32, из-за чего мы не можем гарантировать себе, что при разработке более сложной для нас RPG игры мы реализуем игру в жанре, который больше ценится среди игроков."
   ]
  },
  {
   "cell_type": "markdown",
   "id": "accepted-china",
   "metadata": {},
   "source": [
    "## Шаг 4. Временной ряд\n",
    "Итак, мы определились с жанром игры. Попробуем теперь составить временной ряд и предсказать количество релизов на следующие месяцы (включая май 2021), чтобы понять, в каком месяце количество конкурентных проектов будет минимальным"
   ]
  },
  {
   "cell_type": "code",
   "execution_count": 24,
   "id": "demanding-ranking",
   "metadata": {},
   "outputs": [],
   "source": [
    "df_str = pd.read_csv('./str_info2.csv').drop(columns=['url', 'name'])\n",
    "df_str2 = df_str[(df_str.date > '2015-12-31') & (df_str.date < '2021-05-01')].reset_index(drop=True)\n",
    "dates_str = df_str2['date']"
   ]
  },
  {
   "cell_type": "code",
   "execution_count": 25,
   "id": "interstate-weapon",
   "metadata": {},
   "outputs": [],
   "source": [
    "def count_released_games(dates):\n",
    "    counter = {}\n",
    "    for ind, val in dates.items():\n",
    "        if not (val[:7] in counter):\n",
    "            counter[val[:7]] = 1\n",
    "        else:\n",
    "            counter[val[:7]] += 1\n",
    "    for i in range(1, 13):\n",
    "        for j in range(2016, 2021):\n",
    "            cur_month = f\"{j}-{str(i).zfill(2)}\"\n",
    "            if not(cur_month in counter):\n",
    "                counter[cur_month] = 0\n",
    "    output_counter = {}\n",
    "    for key in sorted(counter.keys()):\n",
    "        output_counter[key] = counter[key]\n",
    "    return output_counter\n",
    "str_counter = count_released_games(dates_str)"
   ]
  },
  {
   "cell_type": "code",
   "execution_count": 26,
   "id": "surprising-albania",
   "metadata": {},
   "outputs": [
    {
     "data": {
      "image/png": "[encoded data removed]",
      "text/plain": [
       "<Figure size 864x432 with 1 Axes>"
      ]
     },
     "metadata": {
      "needs_background": "light"
     },
     "output_type": "display_data"
    }
   ],
   "source": [
    "quantities = list(str_counter.values())\n",
    "dates = list(str_counter.keys())\n",
    "fig = plt.figure(figsize=(12, 6))\n",
    "ax = plt.axes()\n",
    "ax.plot(dates, quantities)\n",
    "for label in ax.xaxis.get_ticklabels()[::2]:\n",
    "    label.set_visible(False)\n",
    "_ = plt.setp(ax.xaxis.get_majorticklabels(), rotation=45)\n",
    "plt.scatter(dates[np.argmax(quantities)], np.max(quantities), c='red')\n",
    "plt.title(\"Количество выпущенных игр в месяц с 2016 года по 2021 (до апреля включительно)\", fontsize=14)\n",
    "plt.xlabel(\"Месяцы\", fontsize=12)\n",
    "plt.ylabel(\"Кол-во выпущенных игр\", fontsize=12)\n",
    "_ = plt.text(dates[np.argmax(quantities)], np.max(quantities) + 5, f\"{np.max(quantities)} штук пик\")"
   ]
  },
  {
   "cell_type": "markdown",
   "id": "similar-group",
   "metadata": {},
   "source": [
    "Построим теперь предсказание временного ряда с помощью Холта"
   ]
  },
  {
   "cell_type": "code",
   "execution_count": 27,
   "id": "essential-stroke",
   "metadata": {},
   "outputs": [
    {
     "name": "stderr",
     "output_type": "stream",
     "text": [
      "/home/dmitrii/anaconda3/envs/sphere/lib/python3.8/site-packages/statsmodels/tsa/holtwinters/model.py:427: FutureWarning: After 0.13 initialization must be handled at model creation\n",
      "  warnings.warn(\n"
     ]
    }
   ],
   "source": [
    "fit = Holt(quantities).fit(smoothing_level=0.35)\n",
    "next_months = fit.forecast(20) # до декабря следующего года включительно"
   ]
  },
  {
   "cell_type": "code",
   "execution_count": 28,
   "id": "square-toronto",
   "metadata": {},
   "outputs": [
    {
     "data": {
      "text/plain": [
       "array([311.44853106, 312.04168911, 312.63484716, 313.22800521,\n",
       "       313.82116325, 314.4143213 , 315.00747935, 315.6006374 ,\n",
       "       316.19379545, 316.78695349, 317.38011154, 317.97326959,\n",
       "       318.56642764, 319.15958569, 319.75274374, 320.34590178,\n",
       "       320.93905983, 321.53221788, 322.12537593, 322.71853398])"
      ]
     },
     "execution_count": 28,
     "metadata": {},
     "output_type": "execute_result"
    }
   ],
   "source": [
    "next_months"
   ]
  },
  {
   "cell_type": "markdown",
   "id": "liberal-overall",
   "metadata": {},
   "source": [
    "Предсказание ряда говорит нам о том, что в будущем ожидается только рост ежемясчного выпуска игр в жанре \"Стратегия\". Значит, нам необходимо сделать игру в кратчайшие сроки, чтобы обеспечить себе наименьшую конкуренцию и больший спрос на наш товар (после окончания пандемии, исходя из наших исследований, кол-во покупок и отзывов должно пойти на спад)."
   ]
  },
  {
   "cell_type": "markdown",
   "id": "gentle-basic",
   "metadata": {},
   "source": [
    "## Шаг 6. Заключение\n",
    "Мы провели анализ рынка игр в жанре \"стратегия\" и \"RPG\", используя выпущенные игры в Steam. Для себя мы смогли определить следующие важные особенности, которые могут повлиять на нашу разработку:\n",
    "\n",
    "1) Количество выпущенных игр (и дополнений) сильно превосходит количество игр, имеющих много отзывов. Более того, \"хороших\" игр по мнению пользователей крайне мало по сравнению с общим объемом, что говорит о том, что покупатели довольно привередливы и не готовы платить деньги за некачественный продукт.\n",
    "\n",
    "2) Пандемия оказала сильное влияние на игроделов и игроков, из-за чего нам, как маленькой компании без особой рекламы, выгодно в кратчайшие сроки сделать игру, чтобы успеть до окончания COVID-19, который заставляет людей оставаться дома и проявлять больший интерес к платформе Steam и играм на ней.\n",
    "\n",
    "3) Мы - компания, которая специализируется на играх-стратегиях. Статистический анализ не показал, что создание игры в жанре RPG имеет больший потенциал, чем создание стратегии. Из-за этого нам следует остаться в привычных условиях и сделать стратегию.\n",
    "\n",
    "4) Steam не против того, чтобы его обкачивали много-много раз, поэтому для возможных дальнейших исследований он является очень хорошим кандидатом:)"
   ]
  },
  {
   "cell_type": "code",
   "execution_count": null,
   "id": "posted-practitioner",
   "metadata": {},
   "outputs": [],
   "source": []
  }
 ],
 "metadata": {
  "kernelspec": {
   "display_name": "Python 3",
   "language": "python",
   "name": "python3"
  },
  "language_info": {
   "codemirror_mode": {
    "name": "ipython",
    "version": 3
   },
   "file_extension": ".py",
   "mimetype": "text/x-python",
   "name": "python",
   "nbconvert_exporter": "python",
   "pygments_lexer": "ipython3",
   "version": "3.8.8"
  }
 },
 "nbformat": 4,
 "nbformat_minor": 5
}